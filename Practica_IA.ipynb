{
 "cells": [
  {
   "cell_type": "code",
   "execution_count": null,
   "metadata": {},
   "outputs": [],
   "source": []
  },
  {
   "cell_type": "code",
   "execution_count": 1,
   "metadata": {
    "colab": {
     "base_uri": "https://localhost:8080/"
    },
    "executionInfo": {
     "elapsed": 11553,
     "status": "ok",
     "timestamp": 1740431290965,
     "user": {
      "displayName": "Eric Risco de la Torre",
      "userId": "16820333876295128124"
     },
     "user_tz": -60
    },
    "id": "ls6QhHKIzbOF",
    "outputId": "d8e2bfc6-6e23-4df9-d135-4531d64a5134"
   },
   "outputs": [
    {
     "name": "stdout",
     "output_type": "stream",
     "text": [
      "Requirement already satisfied: openai in c:\\users\\makos\\miniconda3\\envs\\bd14-despliegue-algo\\lib\\site-packages (1.65.1)\n",
      "Requirement already satisfied: anyio<5,>=3.5.0 in c:\\users\\makos\\miniconda3\\envs\\bd14-despliegue-algo\\lib\\site-packages (from openai) (4.8.0)\n",
      "Requirement already satisfied: distro<2,>=1.7.0 in c:\\users\\makos\\miniconda3\\envs\\bd14-despliegue-algo\\lib\\site-packages (from openai) (1.9.0)\n",
      "Requirement already satisfied: httpx<1,>=0.23.0 in c:\\users\\makos\\miniconda3\\envs\\bd14-despliegue-algo\\lib\\site-packages (from openai) (0.28.1)\n",
      "Requirement already satisfied: jiter<1,>=0.4.0 in c:\\users\\makos\\miniconda3\\envs\\bd14-despliegue-algo\\lib\\site-packages (from openai) (0.8.2)\n",
      "Requirement already satisfied: pydantic<3,>=1.9.0 in c:\\users\\makos\\miniconda3\\envs\\bd14-despliegue-algo\\lib\\site-packages (from openai) (2.10.6)\n",
      "Requirement already satisfied: sniffio in c:\\users\\makos\\miniconda3\\envs\\bd14-despliegue-algo\\lib\\site-packages (from openai) (1.3.1)\n",
      "Requirement already satisfied: tqdm>4 in c:\\users\\makos\\miniconda3\\envs\\bd14-despliegue-algo\\lib\\site-packages (from openai) (4.67.1)\n",
      "Requirement already satisfied: typing-extensions<5,>=4.11 in c:\\users\\makos\\appdata\\roaming\\python\\python311\\site-packages (from openai) (4.12.2)\n",
      "Requirement already satisfied: idna>=2.8 in c:\\users\\makos\\miniconda3\\envs\\bd14-despliegue-algo\\lib\\site-packages (from anyio<5,>=3.5.0->openai) (3.10)\n",
      "Requirement already satisfied: certifi in c:\\users\\makos\\miniconda3\\envs\\bd14-despliegue-algo\\lib\\site-packages (from httpx<1,>=0.23.0->openai) (2025.1.31)\n",
      "Requirement already satisfied: httpcore==1.* in c:\\users\\makos\\miniconda3\\envs\\bd14-despliegue-algo\\lib\\site-packages (from httpx<1,>=0.23.0->openai) (1.0.7)\n",
      "Requirement already satisfied: h11<0.15,>=0.13 in c:\\users\\makos\\miniconda3\\envs\\bd14-despliegue-algo\\lib\\site-packages (from httpcore==1.*->httpx<1,>=0.23.0->openai) (0.14.0)\n",
      "Requirement already satisfied: annotated-types>=0.6.0 in c:\\users\\makos\\miniconda3\\envs\\bd14-despliegue-algo\\lib\\site-packages (from pydantic<3,>=1.9.0->openai) (0.7.0)\n",
      "Requirement already satisfied: pydantic-core==2.27.2 in c:\\users\\makos\\miniconda3\\envs\\bd14-despliegue-algo\\lib\\site-packages (from pydantic<3,>=1.9.0->openai) (2.27.2)\n",
      "Requirement already satisfied: colorama in c:\\users\\makos\\appdata\\roaming\\python\\python311\\site-packages (from tqdm>4->openai) (0.4.6)\n",
      "Note: you may need to restart the kernel to use updated packages.\n"
     ]
    }
   ],
   "source": [
    "%pip install openai"
   ]
  },
  {
   "cell_type": "code",
   "execution_count": 2,
   "metadata": {
    "colab": {
     "base_uri": "https://localhost:8080/"
    },
    "executionInfo": {
     "elapsed": 12715,
     "status": "ok",
     "timestamp": 1740431303681,
     "user": {
      "displayName": "Eric Risco de la Torre",
      "userId": "16820333876295128124"
     },
     "user_tz": -60
    },
    "id": "hSyYt3DJzm05",
    "outputId": "7fbedde2-269e-45fe-ca32-fbda4cda6376"
   },
   "outputs": [],
   "source": [
    "from openai import OpenAI\n",
    "import getpass\n",
    "\n",
    "api_key = getpass.getpass(\"Enter your OpenAI API Key:\")\n",
    "\n",
    "client = OpenAI(api_key = api_key)"
   ]
  },
  {
   "cell_type": "code",
   "execution_count": 3,
   "metadata": {
    "executionInfo": {
     "elapsed": 7,
     "status": "ok",
     "timestamp": 1740431303689,
     "user": {
      "displayName": "Eric Risco de la Torre",
      "userId": "16820333876295128124"
     },
     "user_tz": -60
    },
    "id": "iWQLL9w0zxyX"
   },
   "outputs": [],
   "source": [
    "def get_completion(prompt, model=\"gpt-4o-mini\", temperature = 0):\n",
    "    messages = [{\"role\": \"user\", \"content\": prompt}]\n",
    "    response = client.chat.completions.create(\n",
    "        model=model,\n",
    "        messages=messages,\n",
    "        temperature=temperature,\n",
    "    )\n",
    "    return response.choices[0].message.content"
   ]
  },
  {
   "cell_type": "markdown",
   "metadata": {
    "id": "9u8oaT0r0byB"
   },
   "source": [
    "## Clasificaciones de facturas para el modelo   "
   ]
  },
  {
   "cell_type": "code",
   "execution_count": 4,
   "metadata": {},
   "outputs": [],
   "source": [
    "import pandas as pd"
   ]
  },
  {
   "cell_type": "code",
   "execution_count": 5,
   "metadata": {},
   "outputs": [
    {
     "name": "stdout",
     "output_type": "stream",
     "text": [
      "Requirement already satisfied: pandas in c:\\users\\makos\\miniconda3\\envs\\bd14-despliegue-algo\\lib\\site-packages (2.2.3)\n",
      "Requirement already satisfied: openpyxl in c:\\users\\makos\\miniconda3\\envs\\bd14-despliegue-algo\\lib\\site-packages (3.1.5)\n",
      "Requirement already satisfied: numpy>=1.23.2 in c:\\users\\makos\\miniconda3\\envs\\bd14-despliegue-algo\\lib\\site-packages (from pandas) (2.2.3)\n",
      "Requirement already satisfied: python-dateutil>=2.8.2 in c:\\users\\makos\\appdata\\roaming\\python\\python311\\site-packages (from pandas) (2.9.0.post0)\n",
      "Requirement already satisfied: pytz>=2020.1 in c:\\users\\makos\\miniconda3\\envs\\bd14-despliegue-algo\\lib\\site-packages (from pandas) (2025.1)\n",
      "Requirement already satisfied: tzdata>=2022.7 in c:\\users\\makos\\miniconda3\\envs\\bd14-despliegue-algo\\lib\\site-packages (from pandas) (2025.1)\n",
      "Requirement already satisfied: et-xmlfile in c:\\users\\makos\\miniconda3\\envs\\bd14-despliegue-algo\\lib\\site-packages (from openpyxl) (2.0.0)\n",
      "Requirement already satisfied: six>=1.5 in c:\\users\\makos\\appdata\\roaming\\python\\python311\\site-packages (from python-dateutil>=2.8.2->pandas) (1.16.0)\n",
      "Note: you may need to restart the kernel to use updated packages.\n"
     ]
    }
   ],
   "source": [
    "pip install pandas openpyxl\n"
   ]
  },
  {
   "cell_type": "code",
   "execution_count": 6,
   "metadata": {},
   "outputs": [
    {
     "name": "stdout",
     "output_type": "stream",
     "text": [
      "   Bill_date  Gross_amount   VAT_amount  Net_amount  VAT_rate %    VAT_Number  \\\n",
      "0 2024-06-25   7205.550000  1250.550000        5955    0.210000     G44970168   \n",
      "1 2024-05-02   8099.748558  1405.748558        6694    0.210001     B98844574   \n",
      "2 2024-05-02   8594.000000     0.000000        8594    0.000000     B98844574   \n",
      "3 2024-08-31   8669.000000     0.000000        8669    0.000000  BE0885184584   \n",
      "4 2024-06-11   2787.842322   483.842322        2304    0.210001     B82468364   \n",
      "\n",
      "                              Supplier Bill_Number Quarter  \n",
      "0  ASOCIACION OPEN DE ARBITRAJE(SPAIN)    157/2024      Q2  \n",
      "1                 ASPY Prevención, SLU  2024051123      Q2  \n",
      "2                 ASPY Prevención, SLU  2024051123      Q2  \n",
      "3               Astrea bv cvba - SPAIN     2471794      Q3  \n",
      "4                        ATD Auditores           7      Q2  \n"
     ]
    }
   ],
   "source": [
    "archivo = './datos.xlsx' \n",
    "df = pd.read_excel(archivo)\n",
    "\n",
    "# Mostrar las primeras filas\n",
    "print(df.head(5))"
   ]
  },
  {
   "cell_type": "code",
   "execution_count": 7,
   "metadata": {
    "colab": {
     "base_uri": "https://localhost:8080/"
    },
    "executionInfo": {
     "elapsed": 506,
     "status": "ok",
     "timestamp": 1740431438321,
     "user": {
      "displayName": "Eric Risco de la Torre",
      "userId": "16820333876295128124"
     },
     "user_tz": -60
    },
    "id": "w3ZBRuRE0aYt",
    "outputId": "1dddad24-eda9-4627-a14d-ac0ea0fb9017"
   },
   "outputs": [
    {
     "name": "stdout",
     "output_type": "stream",
     "text": [
      "To categorize the invoices into those that should be declared in the model 347, we can follow the steps outlined in your instructions. Below is the Python code that accomplishes this using the pandas library.\n",
      "\n",
      "```python\n",
      "import pandas as pd\n",
      "\n",
      "# Sample data creation (you would replace this with your actual DataFrame)\n",
      "data = {\n",
      "    'Bill_date': ['2024-06-25', '2024-05-02', '2024-05-02', '2024-08-31', '2024-06-11', \n",
      "                  '2024-06-19', '2024-05-25', '2024-06-06', '2024-06-06', '2024-01-20', \n",
      "                  '2024-05-20', '2024-06-13', '2024-06-13', '2024-02-21', '2024-05-21', \n",
      "                  '2024-05-27', '2024-12-27', '2024-06-13', '2024-06-13'],\n",
      "    'Gross_amount': [7205.55, 8099.75, 8594.00, 8669.00, 2787.84, \n",
      "                     1210.00, 9365.40, 12080.44, 4624.00, 11142.75, \n",
      "                     6794.00, 5392.68, 9640.00, 6059.67, 9750.00, \n",
      "                     8467.60, 9029.00, 10486.50, 8760.00],\n",
      "    'VAT_amount': [1250.55, 1405.75, 0.00, 0.00, 483.84, \n",
      "                   210.00, 1625.40, 2094.44, 0.00, 1931.75, \n",
      "                   0.00, 934.68, 0.00, 1046.67, 0.00, \n",
      "                   1469.60, 0.00, 1819.50, 0.00],\n",
      "    'Net_amount': [5955.00, 6694.00, 8594.00, 8669.00, 2304.00, \n",
      "                   1000.00, 7740.00, 9986.00, 4624.00, 9211.00, \n",
      "                   6794.00, 4458.00, 9640.00, 5013.00, 9750.00, \n",
      "                   6998.00, 9029.00, 8667.00, 8760.00],\n",
      "    'VAT_rate %': [0.21, 0.21, 0.00, 0.00, 0.21, \n",
      "                   0.21, 0.21, 0.21, 0.00, 0.21, \n",
      "                   0.00, 0.21, 0.00, 0.21, 0.00, \n",
      "                   0.21, 0.00, 0.21, 0.00],\n",
      "    'VAT_Number': ['G44970168', 'B98844574', 'B98844574', 'BE0885184584', 'B82468364', \n",
      "                   'B04063285', 'A78887049', 'A78887049', 'A78887049', 'A78887049', \n",
      "                   'A78887049', 'A78887049', 'A78887049', 'A78887049', 'A78887049', \n",
      "                   'A78887049', 'A78887049', 'A78887049', 'A78887049'],\n",
      "    'Supplier': ['ASOCIACION OPEN DE ARBITRAJE(SPAIN)', 'ASPY Prevención, SLU', 'ASPY Prevención, SLU', \n",
      "                 'Astrea bv cvba - SPAIN', 'ATD Auditores', 'Bufet Financiero Y Fiscal SL', \n",
      "                 'Cheque Dejeuner España SA', 'Cheque Dejeuner España SA', 'Cheque Dejeuner España SA', \n",
      "                 'Cheque Dejeuner España SA', 'Cheque Dejeuner España SA', 'Cheque Dejeuner España SA', \n",
      "                 'Cheque Dejeuner España SA', 'Cheque Dejeuner España SA', 'Cheque Dejeuner España SA', \n",
      "                 'Cheque Dejeuner España SA', 'Cheque Dejeuner España SA', 'Cheque Dejeuner España SA', \n",
      "                 'Cheque Dejeuner España SA'],\n",
      "    'Bill_Number': ['157/2024', '2024051123', '2024051123', '2471794', '7', \n",
      "                    'J-2024-00018', '141602', '1416464', '1416464', '6405196', \n",
      "                    '6405196', '6406000', '6406000', 'Q232874', 'Q232874', \n",
      "                    'Q402285', 'Q402285', 'Q403309', 'Q403309', 'Q403309'],\n",
      "    'Quarter': ['Q2', 'Q2', 'Q2', 'Q3', 'Q2', 'Q2', 'Q2', 'Q2', 'Q2', 'Q1', \n",
      "                'Q2', 'Q2', 'Q2', 'Q1', 'Q2', 'Q2', 'Q4', 'Q2', 'Q2', 'Q2']\n",
      "}\n",
      "\n",
      "df = pd.DataFrame(data)\n",
      "\n",
      "# Step 1: Group the invoices by supplier and calculate the total gross amount for each supplier\n",
      "supplier_totals = df.groupby('Supplier')['Gross_amount'].sum().reset_index()\n",
      "\n",
      "# Step 2: Filter out suppliers whose total gross amount is less than 3,005.06 euros\n",
      "filtered_suppliers = supplier_totals[supplier_totals['Gross_amount'] >= 3005.06]\n",
      "\n",
      "# Step 3: For the remaining suppliers, sum the gross amounts by quarter\n",
      "# First, we need to merge the filtered suppliers back to the original DataFrame to get the quarters\n",
      "merged_df = df[df['Supplier'].isin(filtered_suppliers['Supplier'])]\n",
      "quarterly_totals = merged_df.groupby(['Supplier', 'Quarter'])['Gross_amount'].sum().reset_index()\n",
      "\n",
      "# Step 4: Create a final DataFrame with the required information\n",
      "final_df = quarterly_totals.rename(columns={'Gross_amount': 'Total_Gross_Amount'})\n",
      "\n",
      "# Display the final DataFrame\n",
      "print(final_df)\n",
      "```\n",
      "\n",
      "### Explanation of the Code:\n",
      "1. **Data Creation**: The sample data is created in a dictionary format and then converted into a pandas DataFrame. In practice, you would load your DataFrame from a file or another source.\n",
      "2. **Grouping and Summing**: The invoices are grouped by supplier, and the total gross amount is calculated for each supplier.\n",
      "3. **Filtering**: Suppliers with a total gross amount less than 3,005.06 euros are filtered out.\n",
      "4. **Quarterly Summation**: The remaining suppliers are merged back with the original DataFrame to sum the gross amounts by quarter.\n",
      "5. **Final DataFrame**: The final DataFrame is created with the required information, and the results are printed.\n",
      "\n",
      "This code will give you a DataFrame containing the suppliers that need to be declared in model 347, along with their total gross amounts by quarter.\n"
     ]
    }
   ],
   "source": [
    "prompt = f\"\"\"\n",
    "You are an expert in  Spanish Tax, categorize invoices (df) into the ones that should be declared in the model 347.\n",
    "\n",
    "The list of invoices is provided in df.\n",
    "\n",
    "Follow this steps and write Python code for each of them:\n",
    "1. Group the invoices by supplier and calculate the total gross amount for each supplier.\n",
    "2. Filter out suppliers whose total gross amount is less than 3,005.06 euros.\n",
    "3. For the remaining suppliers, sum the gross amounts by quarter.\n",
    "4. Create a final DataFrame with the required information.\n",
    "\n",
    "\n",
    "Example of df Structure:\n",
    "\n",
    "Bill date: 25/06/2024\n",
    "Gross amount:7,205.55\n",
    "VAT amount:1,250.55\n",
    "Net amount:5,955.00\n",
    "VAT rate %:0.21\n",
    "VAT Number:\tG44970168\n",
    "Supplier:ASOCIACION OPEN DE ARBITRAJE\n",
    "Bill Number:157/2024\n",
    "Quarter:Q2\n",
    "\n",
    "\n",
    "Instructions:\n",
    "\n",
    "Gross amount: calculate the total gross amount for each supplier.\n",
    "Supplier: Filter out suppliers whose total gross amount is less than 3,005.06 euros.\n",
    "Quarter: sum the gross amounts by quarter.\n",
    "\n",
    "Use information in the df.\n",
    "\n",
    "df: ```{df}```\n",
    "\"\"\"\n",
    "\n",
    "response = get_completion(prompt)\n",
    "print(response)"
   ]
  },
  {
   "cell_type": "code",
   "execution_count": null,
   "metadata": {},
   "outputs": [
    {
     "name": "stdout",
     "output_type": "stream",
     "text": [
      "                              Supplier Quarter  Total_Gross_Amount\n",
      "0  ASOCIACION OPEN DE ARBITRAJE(SPAIN)      Q2         7205.550000\n",
      "1                 ASPY Prevención, SLU      Q2        16693.748558\n",
      "2               Astrea bv cvba - SPAIN      Q3         8669.000000\n",
      "3            Cheque Dejeuner España SA      Q1        17202.421719\n",
      "4            Cheque Dejeuner España SA      Q2        85360.625687\n",
      "5            Cheque Dejeuner España SA      Q4         9029.000000\n"
     ]
    }
   ],
   "source": [
    "#Comprobar el código proporcionado:\n",
    "\n",
    "# Step 1: Group the invoices by supplier and calculate the total gross amount for each supplier\n",
    "supplier_totals = df.groupby('Supplier')['Gross_amount'].sum().reset_index()\n",
    "\n",
    "# Step 2: Filter out suppliers whose total gross amount is less than 3,005.06 euros\n",
    "filtered_suppliers = supplier_totals[supplier_totals['Gross_amount'] >= 3005.06]\n",
    "\n",
    "# Step 3: For the remaining suppliers, sum the gross amounts by quarter\n",
    "# First, we need to merge the filtered suppliers back to the original DataFrame to get the quarters\n",
    "merged_df = df[df['Supplier'].isin(filtered_suppliers['Supplier'])]\n",
    "quarterly_totals = merged_df.groupby(['Supplier', 'Quarter'])['Gross_amount'].sum().reset_index()\n",
    "\n",
    "# Step 4: Create a final DataFrame with the required information\n",
    "final_df = quarterly_totals.rename(columns={'Gross_amount': 'Total_Gross_Amount'})\n",
    "\n",
    "# Display the final DataFrame\n",
    "print(final_df)"
   ]
  },
  {
   "cell_type": "code",
   "execution_count": null,
   "metadata": {},
   "outputs": [],
   "source": []
  }
 ],
 "metadata": {
  "colab": {
   "authorship_tag": "ABX9TyOdNCv1VGD2LBqtgx1ZOZHO",
   "provenance": []
  },
  "kernelspec": {
   "display_name": "bd14-despliegue-algo",
   "language": "python",
   "name": "python3"
  },
  "language_info": {
   "codemirror_mode": {
    "name": "ipython",
    "version": 3
   },
   "file_extension": ".py",
   "mimetype": "text/x-python",
   "name": "python",
   "nbconvert_exporter": "python",
   "pygments_lexer": "ipython3",
   "version": "3.11.0"
  }
 },
 "nbformat": 4,
 "nbformat_minor": 0
}
